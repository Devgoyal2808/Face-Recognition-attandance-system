{
 "cells": [
  {
   "cell_type": "code",
   "execution_count": 1,
   "metadata": {},
   "outputs": [
    {
     "name": "stdout",
     "output_type": "stream",
     "text": [
      "importing Jupyter notebook from check_camera.ipynb\n",
      "importing Jupyter notebook from Capture_Image.ipynb\n",
      "importing Jupyter notebook from Train_Image.ipynb\n",
      "importing Jupyter notebook from Recognize.ipynb\n"
     ]
    }
   ],
   "source": [
    "import os  # accessing the os functions\n",
    "import import_ipynb\n",
    "import check_camera\n",
    "import Capture_Image\n",
    "import Train_Image\n",
    "import Recognize"
   ]
  },
  {
   "cell_type": "code",
   "execution_count": 2,
   "metadata": {},
   "outputs": [],
   "source": [
    "# creating the title bar function\n",
    "\n",
    "def title_bar():\n",
    "    os.system('cls')  # for windows\n",
    "\n",
    "    # title of the program\n",
    "\n",
    "    print(\"\\t**********************************************\")\n",
    "    print(\"\\t***** Face Recognition Attendance System *****\")\n",
    "    print(\"\\t**********************************************\")\n",
    "\n",
    "\n",
    "# creating the user main menu function\n"
   ]
  },
  {
   "cell_type": "code",
   "execution_count": 3,
   "metadata": {},
   "outputs": [],
   "source": [
    "def mainMenu():\n",
    "    title_bar()\n",
    "    print()\n",
    "    print(10 * \"*\", \"WELCOME MENU\", 10 * \"*\")\n",
    "    print(\"[1] Check Camera\")\n",
    "    print(\"[2] Capture Faces\")\n",
    "    print(\"[3] Train Images\")\n",
    "    print(\"[4] Recognize & Attendance\")\n",
    "    print(\"[5] Auto Mail\")\n",
    "    print(\"[6] Quit\")\n",
    "\n",
    "    while True:\n",
    "        try:\n",
    "            choice = int(input(\"Enter Choice: \"))\n",
    "\n",
    "            if choice == 1:\n",
    "                checkCamera()\n",
    "                break\n",
    "            elif choice == 2:\n",
    "                CaptureFaces()\n",
    "                break\n",
    "            elif choice == 3:\n",
    "                Trainimages()\n",
    "                break\n",
    "            elif choice == 4:\n",
    "                RecognizeFaces()\n",
    "                break\n",
    "            elif choice == 5:\n",
    "                os.system(\"py automail.ipynb\")\n",
    "                break\n",
    "                mainMenu()\n",
    "            elif choice == 6:\n",
    "                print(\"Thank You\")\n",
    "                break\n",
    "            else:\n",
    "                print(\"Invalid Choice. Enter 1-4\")\n",
    "                mainMenu()\n",
    "        except ValueError:\n",
    "            print(\"Invalid Choice. Enter 1-4\\n Try Again\")\n",
    "    exit\n",
    "\n"
   ]
  },
  {
   "cell_type": "code",
   "execution_count": 4,
   "metadata": {},
   "outputs": [],
   "source": [
    "def checkCamera():\n",
    "    check_camera.camer()\n",
    "    key = input(\"Enter any key to return main menu\")\n",
    "    mainMenu()"
   ]
  },
  {
   "cell_type": "code",
   "execution_count": 5,
   "metadata": {},
   "outputs": [],
   "source": [
    "# calling the take image function form capture image.py file\n",
    "\n",
    "def CaptureFaces():\n",
    "    Capture_Image.takeImages()\n",
    "    key = input(\"Enter any key to return main menu\")\n",
    "    mainMenu()\n"
   ]
  },
  {
   "cell_type": "code",
   "execution_count": 6,
   "metadata": {},
   "outputs": [],
   "source": [
    "def Trainimages():\n",
    "    Train_Image.TrainImages()\n",
    "    key = input(\"Enter any key to return main menu\")\n",
    "    mainMenu()\n"
   ]
  },
  {
   "cell_type": "code",
   "execution_count": 7,
   "metadata": {},
   "outputs": [],
   "source": [
    "def RecognizeFaces():\n",
    "    Recognize.recognize_attendence()\n",
    "    key = input(\"Enter any key to return main menu\")\n",
    "    mainMenu()\n"
   ]
  },
  {
   "cell_type": "code",
   "execution_count": null,
   "metadata": {},
   "outputs": [
    {
     "name": "stdout",
     "output_type": "stream",
     "text": [
      "\t**********************************************\n",
      "\t***** Face Recognition Attendance System *****\n",
      "\t**********************************************\n",
      "\n",
      "********** WELCOME MENU **********\n",
      "[1] Check Camera\n",
      "[2] Capture Faces\n",
      "[3] Train Images\n",
      "[4] Recognize & Attendance\n",
      "[5] Auto Mail\n",
      "[6] Quit\n"
     ]
    }
   ],
   "source": [
    "mainMenu()"
   ]
  },
  {
   "cell_type": "code",
   "execution_count": null,
   "metadata": {},
   "outputs": [],
   "source": []
  }
 ],
 "metadata": {
  "kernelspec": {
   "display_name": "Python 3",
   "language": "python",
   "name": "python3"
  },
  "language_info": {
   "codemirror_mode": {
    "name": "ipython",
    "version": 3
   },
   "file_extension": ".py",
   "mimetype": "text/x-python",
   "name": "python",
   "nbconvert_exporter": "python",
   "pygments_lexer": "ipython3",
   "version": "3.8.5"
  }
 },
 "nbformat": 4,
 "nbformat_minor": 4
}
